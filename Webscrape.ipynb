{
 "cells": [
  {
   "cell_type": "code",
   "execution_count": 1,
   "id": "85b70666",
   "metadata": {},
   "outputs": [],
   "source": [
    "# Import Dependencies\n",
    "from bs4 import BeautifulSoup as bs\n",
    "from splinter import Browser\n",
    "from webdriver_manager.chrome import ChromeDriverManager\n",
    "import re\n",
    "import pandas as pd"
   ]
  },
  {
   "cell_type": "code",
   "execution_count": 2,
   "id": "07732678",
   "metadata": {},
   "outputs": [
    {
     "name": "stderr",
     "output_type": "stream",
     "text": [
      "[WDM] - Downloading: 100%|████████████████████████████████████████████████████████| 6.58M/6.58M [00:00<00:00, 37.3MB/s]\n"
     ]
    }
   ],
   "source": [
    "# Create empty browser window\n",
    "exectuable_path = {\"executable_path\": ChromeDriverManager().install()}\n",
    "browser = Browser(\"chrome\", **exectuable_path, headless=False)"
   ]
  },
  {
   "cell_type": "code",
   "execution_count": 3,
   "id": "0e18236d",
   "metadata": {},
   "outputs": [],
   "source": [
    "# Make browser window go to website\n",
    "url = \"https://www.myersbriggs.org/my-mbti-personality-type/mbti-basics/the-16-mbti-types.htm\"\n",
    "browser.visit(url)"
   ]
  },
  {
   "cell_type": "code",
   "execution_count": 4,
   "id": "9019e447",
   "metadata": {},
   "outputs": [],
   "source": [
    "# Parse with BeautifulSoup\n",
    "soup = bs(browser.html, \"html.parser\")"
   ]
  },
  {
   "cell_type": "code",
   "execution_count": 5,
   "id": "db18383c",
   "metadata": {},
   "outputs": [],
   "source": [
    "personality_types = []\n",
    "text = soup.find_all(\"div\", class_=\"content_right_inner\")\n",
    "datahtml = text[0]\n",
    "\n",
    "names = datahtml.findAll(\"h2\")\n",
    "descriptions = datahtml.findAll(\"p\")\n",
    "#names = names.text()\n",
    "personality_dict = {\"Personality Type\": names, \"Description\": descriptions}\n",
    "personality_types.append(personality_dict)"
   ]
  },
  {
   "cell_type": "code",
   "execution_count": 6,
   "id": "e0314438",
   "metadata": {},
   "outputs": [],
   "source": [
    "name = []\n",
    "\n",
    "for n in names:\n",
    "    name.append(n.text)"
   ]
  },
  {
   "cell_type": "code",
   "execution_count": 7,
   "id": "917b8ddb",
   "metadata": {},
   "outputs": [
    {
     "data": {
      "text/plain": [
       "['ISTJ',\n",
       " 'ISFJ',\n",
       " 'INFJ',\n",
       " 'INTJ',\n",
       " 'ISTP',\n",
       " 'ISFP',\n",
       " 'INFP',\n",
       " 'INTP',\n",
       " 'ESTP',\n",
       " 'ESFP',\n",
       " 'ENFP',\n",
       " 'ENTP',\n",
       " 'ESTJ',\n",
       " 'ESFJ',\n",
       " 'ENFJ',\n",
       " 'ENTJ']"
      ]
     },
     "execution_count": 7,
     "metadata": {},
     "output_type": "execute_result"
    }
   ],
   "source": [
    "name"
   ]
  },
  {
   "cell_type": "code",
   "execution_count": 8,
   "id": "f7160f39",
   "metadata": {},
   "outputs": [],
   "source": [
    "description = []\n",
    "\n",
    "for d in descriptions:\n",
    "    description.append(d.text)"
   ]
  },
  {
   "cell_type": "code",
   "execution_count": 9,
   "id": "f5b55e62",
   "metadata": {},
   "outputs": [],
   "source": [
    "final_description = []\n",
    "\n",
    "for i in range (len(description)):\n",
    "    des = description[i].replace('\\n', '').replace('\\t', '')\n",
    "    final_description.append(des)"
   ]
  },
  {
   "cell_type": "code",
   "execution_count": 10,
   "id": "e1381d5b",
   "metadata": {},
   "outputs": [
    {
     "data": {
      "text/plain": [
       "['Quiet, serious, earn success by thoroughness and dependability. Practical, matter-of-fact, realistic, and responsible. Decide logically what should be done and work toward it steadily, regardless of distractions. Take pleasure in making everything orderly and organized - their work, their home, their life. Value traditions and loyalty.',\n",
       " 'Quiet, friendly, responsible, and conscientious. Committed and steady in meeting their obligations. Thorough, painstaking, and accurate. Loyal, considerate, notice and remember specifics about people who are important to them, concerned with how others feel. Strive to create an orderly and harmonious environment at work and at home.',\n",
       " 'Seek meaning and connection in ideas, relationships, and material possessions. Want to understand what motivates people and are insightful about others. Conscientious and committed to their firm values. Develop a clear vision about how best to serve the common good. Organized and decisive in implementing their vision.',\n",
       " 'Have original minds and great drive for implementing their ideas and achieving their goals. Quickly see patterns in external events and develop long-range explanatory perspectives. When committed, organize a job and carry it through. Skeptical and independent, have high standards of competence and performance - for themselves and others.',\n",
       " 'Tolerant and flexible, quiet observers until a problem appears, then act quickly to find workable solutions. Analyze what makes things work and readily get through large amounts of data to isolate the core of practical problems. Interested in cause and effect, organize facts using logical principles, value efficiency.',\n",
       " \"Quiet, friendly, sensitive, and kind. Enjoy the present moment, what's going on around them. Like to have their own space and to work within their own time frame. Loyal and committed to their values and to people who are important to them. Dislike disagreements and conflicts, do not force their opinions or values on others.\",\n",
       " 'Idealistic, loyal to their values and to people who are important to them. Want an external life that is congruent with their values. Curious, quick to see possibilities, can be catalysts for implementing ideas. Seek to understand people and to help them fulfill their potential. Adaptable, flexible, and accepting unless a value is threatened.',\n",
       " 'Seek to develop logical explanations for everything that interests them. Theoretical and abstract, interested more in ideas than in social interaction. Quiet, contained, flexible, and adaptable. Have unusual ability to focus in depth to solve problems in their area of interest. Skeptical, sometimes critical, always analytical.',\n",
       " 'Flexible and tolerant, they take a pragmatic approach focused on immediate results. Theories and conceptual explanations bore them - they want to act energetically to solve the problem. Focus on the here-and-now, spontaneous, enjoy each moment that they can be active with others. Enjoy material comforts and style. Learn best through doing.',\n",
       " 'Outgoing, friendly, and accepting. Exuberant lovers of life, people, and material comforts. Enjoy working with others to make things happen. Bring common sense and a realistic approach to their work, and make work fun. Flexible and spontaneous, adapt readily to new people and environments. Learn best by trying a new skill with other people.',\n",
       " 'Warmly enthusiastic and imaginative. See life as full of possibilities. Make connections between events and information very quickly, and confidently proceed based on the patterns they see. Want a lot of affirmation from others, and readily give appreciation and support. Spontaneous and flexible, often rely on their ability to improvise and their verbal fluency.',\n",
       " 'Quick, ingenious, stimulating, alert, and outspoken. Resourceful in solving new and challenging problems. Adept at generating conceptual possibilities and then analyzing them strategically. Good at reading other people. Bored by routine, will seldom do the same thing the same way, apt to turn to one new interest after another.',\n",
       " 'Practical, realistic, matter-of-fact. Decisive, quickly move to implement decisions. Organize projects and people to get things done, focus on getting results in the most efficient way possible. Take care of routine details. Have a clear set of logical standards, systematically follow them and want others to also. Forceful in implementing their plans.',\n",
       " 'Warmhearted, conscientious, and cooperative. Want harmony in their environment, work with determination to establish it. Like to work with others to complete tasks accurately and on time. Loyal, follow through even in small matters. Notice what others need in their day-by-day lives and try to provide it. Want to be appreciated for who they are and for what they contribute.',\n",
       " 'Warm, empathetic, responsive, and responsible. Highly attuned to the emotions, needs, and motivations of others. Find potential in everyone, want to help others fulfill their potential. May act as catalysts for individual and group growth. Loyal, responsive to praise and criticism. Sociable, facilitate others in a group, and provide inspiring leadership.',\n",
       " 'Frank, decisive, assume leadership readily. Quickly see illogical and inefficient procedures and policies, develop and implement comprehensive systems to solve organizational problems. Enjoy long-term planning and goal setting. Usually well informed, well read, enjoy expanding their knowledge and passing it on to others. Forceful in presenting their ideas.',\n",
       " 'Excerpted from Introduction to Type® by Isabel Briggs Myers published by The Myers-Briggs Company. Used with permission.']"
      ]
     },
     "execution_count": 10,
     "metadata": {},
     "output_type": "execute_result"
    }
   ],
   "source": [
    "final_description"
   ]
  },
  {
   "cell_type": "code",
   "execution_count": 11,
   "id": "38039649",
   "metadata": {},
   "outputs": [],
   "source": [
    "final_personality_types = []\n",
    "\n",
    "for m in range (len(name)):\n",
    "    personality = {\"Name\": name[m], \"Description\": final_description[m]}\n",
    "    final_personality_types.append(personality)\n",
    "    "
   ]
  },
  {
   "cell_type": "code",
   "execution_count": 12,
   "id": "0f0f3a3a",
   "metadata": {},
   "outputs": [
    {
     "data": {
      "text/plain": [
       "[{'Name': 'ISTJ',\n",
       "  'Description': 'Quiet, serious, earn success by thoroughness and dependability. Practical, matter-of-fact, realistic, and responsible. Decide logically what should be done and work toward it steadily, regardless of distractions. Take pleasure in making everything orderly and organized - their work, their home, their life. Value traditions and loyalty.'},\n",
       " {'Name': 'ISFJ',\n",
       "  'Description': 'Quiet, friendly, responsible, and conscientious. Committed and steady in meeting their obligations. Thorough, painstaking, and accurate. Loyal, considerate, notice and remember specifics about people who are important to them, concerned with how others feel. Strive to create an orderly and harmonious environment at work and at home.'},\n",
       " {'Name': 'INFJ',\n",
       "  'Description': 'Seek meaning and connection in ideas, relationships, and material possessions. Want to understand what motivates people and are insightful about others. Conscientious and committed to their firm values. Develop a clear vision about how best to serve the common good. Organized and decisive in implementing their vision.'},\n",
       " {'Name': 'INTJ',\n",
       "  'Description': 'Have original minds and great drive for implementing their ideas and achieving their goals. Quickly see patterns in external events and develop long-range explanatory perspectives. When committed, organize a job and carry it through. Skeptical and independent, have high standards of competence and performance - for themselves and others.'},\n",
       " {'Name': 'ISTP',\n",
       "  'Description': 'Tolerant and flexible, quiet observers until a problem appears, then act quickly to find workable solutions. Analyze what makes things work and readily get through large amounts of data to isolate the core of practical problems. Interested in cause and effect, organize facts using logical principles, value efficiency.'},\n",
       " {'Name': 'ISFP',\n",
       "  'Description': \"Quiet, friendly, sensitive, and kind. Enjoy the present moment, what's going on around them. Like to have their own space and to work within their own time frame. Loyal and committed to their values and to people who are important to them. Dislike disagreements and conflicts, do not force their opinions or values on others.\"},\n",
       " {'Name': 'INFP',\n",
       "  'Description': 'Idealistic, loyal to their values and to people who are important to them. Want an external life that is congruent with their values. Curious, quick to see possibilities, can be catalysts for implementing ideas. Seek to understand people and to help them fulfill their potential. Adaptable, flexible, and accepting unless a value is threatened.'},\n",
       " {'Name': 'INTP',\n",
       "  'Description': 'Seek to develop logical explanations for everything that interests them. Theoretical and abstract, interested more in ideas than in social interaction. Quiet, contained, flexible, and adaptable. Have unusual ability to focus in depth to solve problems in their area of interest. Skeptical, sometimes critical, always analytical.'},\n",
       " {'Name': 'ESTP',\n",
       "  'Description': 'Flexible and tolerant, they take a pragmatic approach focused on immediate results. Theories and conceptual explanations bore them - they want to act energetically to solve the problem. Focus on the here-and-now, spontaneous, enjoy each moment that they can be active with others. Enjoy material comforts and style. Learn best through doing.'},\n",
       " {'Name': 'ESFP',\n",
       "  'Description': 'Outgoing, friendly, and accepting. Exuberant lovers of life, people, and material comforts. Enjoy working with others to make things happen. Bring common sense and a realistic approach to their work, and make work fun. Flexible and spontaneous, adapt readily to new people and environments. Learn best by trying a new skill with other people.'},\n",
       " {'Name': 'ENFP',\n",
       "  'Description': 'Warmly enthusiastic and imaginative. See life as full of possibilities. Make connections between events and information very quickly, and confidently proceed based on the patterns they see. Want a lot of affirmation from others, and readily give appreciation and support. Spontaneous and flexible, often rely on their ability to improvise and their verbal fluency.'},\n",
       " {'Name': 'ENTP',\n",
       "  'Description': 'Quick, ingenious, stimulating, alert, and outspoken. Resourceful in solving new and challenging problems. Adept at generating conceptual possibilities and then analyzing them strategically. Good at reading other people. Bored by routine, will seldom do the same thing the same way, apt to turn to one new interest after another.'},\n",
       " {'Name': 'ESTJ',\n",
       "  'Description': 'Practical, realistic, matter-of-fact. Decisive, quickly move to implement decisions. Organize projects and people to get things done, focus on getting results in the most efficient way possible. Take care of routine details. Have a clear set of logical standards, systematically follow them and want others to also. Forceful in implementing their plans.'},\n",
       " {'Name': 'ESFJ',\n",
       "  'Description': 'Warmhearted, conscientious, and cooperative. Want harmony in their environment, work with determination to establish it. Like to work with others to complete tasks accurately and on time. Loyal, follow through even in small matters. Notice what others need in their day-by-day lives and try to provide it. Want to be appreciated for who they are and for what they contribute.'},\n",
       " {'Name': 'ENFJ',\n",
       "  'Description': 'Warm, empathetic, responsive, and responsible. Highly attuned to the emotions, needs, and motivations of others. Find potential in everyone, want to help others fulfill their potential. May act as catalysts for individual and group growth. Loyal, responsive to praise and criticism. Sociable, facilitate others in a group, and provide inspiring leadership.'},\n",
       " {'Name': 'ENTJ',\n",
       "  'Description': 'Frank, decisive, assume leadership readily. Quickly see illogical and inefficient procedures and policies, develop and implement comprehensive systems to solve organizational problems. Enjoy long-term planning and goal setting. Usually well informed, well read, enjoy expanding their knowledge and passing it on to others. Forceful in presenting their ideas.'}]"
      ]
     },
     "execution_count": 12,
     "metadata": {},
     "output_type": "execute_result"
    }
   ],
   "source": [
    "final_personality_types"
   ]
  },
  {
   "cell_type": "code",
   "execution_count": 16,
   "id": "615230b0",
   "metadata": {},
   "outputs": [],
   "source": [
    "personality_df = pd.DataFrame(final_personality_types)"
   ]
  },
  {
   "cell_type": "code",
   "execution_count": 17,
   "id": "5f705969",
   "metadata": {},
   "outputs": [
    {
     "data": {
      "text/html": [
       "<div>\n",
       "<style scoped>\n",
       "    .dataframe tbody tr th:only-of-type {\n",
       "        vertical-align: middle;\n",
       "    }\n",
       "\n",
       "    .dataframe tbody tr th {\n",
       "        vertical-align: top;\n",
       "    }\n",
       "\n",
       "    .dataframe thead th {\n",
       "        text-align: right;\n",
       "    }\n",
       "</style>\n",
       "<table border=\"1\" class=\"dataframe\">\n",
       "  <thead>\n",
       "    <tr style=\"text-align: right;\">\n",
       "      <th></th>\n",
       "      <th>Name</th>\n",
       "      <th>Description</th>\n",
       "    </tr>\n",
       "  </thead>\n",
       "  <tbody>\n",
       "    <tr>\n",
       "      <th>0</th>\n",
       "      <td>ISTJ</td>\n",
       "      <td>Quiet, serious, earn success by thoroughness a...</td>\n",
       "    </tr>\n",
       "    <tr>\n",
       "      <th>1</th>\n",
       "      <td>ISFJ</td>\n",
       "      <td>Quiet, friendly, responsible, and conscientiou...</td>\n",
       "    </tr>\n",
       "    <tr>\n",
       "      <th>2</th>\n",
       "      <td>INFJ</td>\n",
       "      <td>Seek meaning and connection in ideas, relation...</td>\n",
       "    </tr>\n",
       "    <tr>\n",
       "      <th>3</th>\n",
       "      <td>INTJ</td>\n",
       "      <td>Have original minds and great drive for implem...</td>\n",
       "    </tr>\n",
       "    <tr>\n",
       "      <th>4</th>\n",
       "      <td>ISTP</td>\n",
       "      <td>Tolerant and flexible, quiet observers until a...</td>\n",
       "    </tr>\n",
       "    <tr>\n",
       "      <th>5</th>\n",
       "      <td>ISFP</td>\n",
       "      <td>Quiet, friendly, sensitive, and kind. Enjoy th...</td>\n",
       "    </tr>\n",
       "    <tr>\n",
       "      <th>6</th>\n",
       "      <td>INFP</td>\n",
       "      <td>Idealistic, loyal to their values and to peopl...</td>\n",
       "    </tr>\n",
       "    <tr>\n",
       "      <th>7</th>\n",
       "      <td>INTP</td>\n",
       "      <td>Seek to develop logical explanations for every...</td>\n",
       "    </tr>\n",
       "    <tr>\n",
       "      <th>8</th>\n",
       "      <td>ESTP</td>\n",
       "      <td>Flexible and tolerant, they take a pragmatic a...</td>\n",
       "    </tr>\n",
       "    <tr>\n",
       "      <th>9</th>\n",
       "      <td>ESFP</td>\n",
       "      <td>Outgoing, friendly, and accepting. Exuberant l...</td>\n",
       "    </tr>\n",
       "    <tr>\n",
       "      <th>10</th>\n",
       "      <td>ENFP</td>\n",
       "      <td>Warmly enthusiastic and imaginative. See life ...</td>\n",
       "    </tr>\n",
       "    <tr>\n",
       "      <th>11</th>\n",
       "      <td>ENTP</td>\n",
       "      <td>Quick, ingenious, stimulating, alert, and outs...</td>\n",
       "    </tr>\n",
       "    <tr>\n",
       "      <th>12</th>\n",
       "      <td>ESTJ</td>\n",
       "      <td>Practical, realistic, matter-of-fact. Decisive...</td>\n",
       "    </tr>\n",
       "    <tr>\n",
       "      <th>13</th>\n",
       "      <td>ESFJ</td>\n",
       "      <td>Warmhearted, conscientious, and cooperative. W...</td>\n",
       "    </tr>\n",
       "    <tr>\n",
       "      <th>14</th>\n",
       "      <td>ENFJ</td>\n",
       "      <td>Warm, empathetic, responsive, and responsible....</td>\n",
       "    </tr>\n",
       "    <tr>\n",
       "      <th>15</th>\n",
       "      <td>ENTJ</td>\n",
       "      <td>Frank, decisive, assume leadership readily. Qu...</td>\n",
       "    </tr>\n",
       "  </tbody>\n",
       "</table>\n",
       "</div>"
      ],
      "text/plain": [
       "    Name                                        Description\n",
       "0   ISTJ  Quiet, serious, earn success by thoroughness a...\n",
       "1   ISFJ  Quiet, friendly, responsible, and conscientiou...\n",
       "2   INFJ  Seek meaning and connection in ideas, relation...\n",
       "3   INTJ  Have original minds and great drive for implem...\n",
       "4   ISTP  Tolerant and flexible, quiet observers until a...\n",
       "5   ISFP  Quiet, friendly, sensitive, and kind. Enjoy th...\n",
       "6   INFP  Idealistic, loyal to their values and to peopl...\n",
       "7   INTP  Seek to develop logical explanations for every...\n",
       "8   ESTP  Flexible and tolerant, they take a pragmatic a...\n",
       "9   ESFP  Outgoing, friendly, and accepting. Exuberant l...\n",
       "10  ENFP  Warmly enthusiastic and imaginative. See life ...\n",
       "11  ENTP  Quick, ingenious, stimulating, alert, and outs...\n",
       "12  ESTJ  Practical, realistic, matter-of-fact. Decisive...\n",
       "13  ESFJ  Warmhearted, conscientious, and cooperative. W...\n",
       "14  ENFJ  Warm, empathetic, responsive, and responsible....\n",
       "15  ENTJ  Frank, decisive, assume leadership readily. Qu..."
      ]
     },
     "execution_count": 17,
     "metadata": {},
     "output_type": "execute_result"
    }
   ],
   "source": [
    "personality_df"
   ]
  },
  {
   "cell_type": "code",
   "execution_count": null,
   "id": "8538db7a",
   "metadata": {},
   "outputs": [],
   "source": []
  }
 ],
 "metadata": {
  "kernelspec": {
   "display_name": "Python 3 (ipykernel)",
   "language": "python",
   "name": "python3"
  },
  "language_info": {
   "codemirror_mode": {
    "name": "ipython",
    "version": 3
   },
   "file_extension": ".py",
   "mimetype": "text/x-python",
   "name": "python",
   "nbconvert_exporter": "python",
   "pygments_lexer": "ipython3",
   "version": "3.9.12"
  }
 },
 "nbformat": 4,
 "nbformat_minor": 5
}
