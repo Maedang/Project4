{
 "cells": [
  {
   "cell_type": "code",
   "execution_count": null,
   "id": "bf49947c",
   "metadata": {},
   "outputs": [],
   "source": [
    "import numpy as np\n",
    "import pandas as pd\n",
    "import matplotlib.pyplot as plt\n",
    "import seaborn as sns\n",
    "from sklearn.model_selection import train_test_split\n",
    "from sklearn.metrics import make_scorer, accuracy_score, classification_report, confusion_matrix \n",
    "# Load dataset\n",
    "df = pd.read_csv('data/mbti_1.csv')\n",
    "# Combine training and test datasets\n",
    "df.head()"
   ]
  },
  {
   "cell_type": "code",
   "execution_count": null,
   "id": "5d1a4cef",
   "metadata": {},
   "outputs": [],
   "source": [
    "# One-hot-encoding\n",
    "df_reset = df.reset_index(drop=True)\n",
    "labels = pd.get_dummies(df_reset['type'])\n",
    "df_reset = pd.concat([df_reset, labels], axis=1)\n",
    "df_reset"
   ]
  },
  {
   "cell_type": "code",
   "execution_count": null,
   "id": "cbdee173",
   "metadata": {},
   "outputs": [],
   "source": [
    "# Split data\n",
    "X_train, X_val, y_train, y_val = train_test_split(df_reset['posts'].values,\n",
    "                                                  df_reset['type'].values,\n",
    "                                                  stratify=df_reset['type'],\n",
    "                                                  test_size=0.2, random_state=123)"
   ]
  },
  {
   "cell_type": "code",
   "execution_count": null,
   "id": "9f7cd11e",
   "metadata": {},
   "outputs": [],
   "source": [
    "# Apply tokenizer and text to sequence\n",
    "from tensorflow.keras.preprocessing.text import Tokenizer\n",
    "from tensorflow.keras.preprocessing.sequence import pad_sequences\n",
    "tokenizer = Tokenizer(num_words=5000, oov_token='x')\n",
    "tokenizer.fit_on_texts(X_train) \n",
    "tokenizer.fit_on_texts(X_val)\n",
    "seq_train = tokenizer.texts_to_sequences(X_train)\n",
    "seq_val = tokenizer.texts_to_sequences(X_val)\n",
    "pad_train = pad_sequences(seq_train) \n",
    "pad_val = pad_sequences(seq_val)"
   ]
  },
  {
   "cell_type": "code",
   "execution_count": null,
   "id": "df0625eb",
   "metadata": {},
   "outputs": [],
   "source": []
  }
 ],
 "metadata": {
  "kernelspec": {
   "display_name": "Python 3 (ipykernel)",
   "language": "python",
   "name": "python3"
  },
  "language_info": {
   "codemirror_mode": {
    "name": "ipython",
    "version": 3
   },
   "file_extension": ".py",
   "mimetype": "text/x-python",
   "name": "python",
   "nbconvert_exporter": "python",
   "pygments_lexer": "ipython3",
   "version": "3.9.12"
  }
 },
 "nbformat": 4,
 "nbformat_minor": 5
}
